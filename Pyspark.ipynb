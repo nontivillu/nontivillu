{
  "nbformat": 4,
  "nbformat_minor": 0,
  "metadata": {
    "colab": {
      "provenance": [],
      "authorship_tag": "ABX9TyOtx4SL4D7ISbPPCrQuW6EH",
      "include_colab_link": true
    },
    "kernelspec": {
      "name": "python3",
      "display_name": "Python 3"
    },
    "language_info": {
      "name": "python"
    }
  },
  "cells": [
    {
      "cell_type": "markdown",
      "metadata": {
        "id": "view-in-github",
        "colab_type": "text"
      },
      "source": [
        "<a href=\"https://colab.research.google.com/github/nontivillu/nontivillu/blob/main/Pyspark.ipynb\" target=\"_parent\"><img src=\"https://colab.research.google.com/assets/colab-badge.svg\" alt=\"Open In Colab\"/></a>"
      ]
    },
    {
      "cell_type": "markdown",
      "source": [
        "# WEEK 6 Big Data Best Practices"
      ],
      "metadata": {
        "id": "iRkN5J5btAx5"
      }
    },
    {
      "cell_type": "code",
      "execution_count": 1,
      "metadata": {
        "colab": {
          "base_uri": "https://localhost:8080/",
          "height": 0
        },
        "id": "qnW65NeXlgmm",
        "outputId": "da3b83a2-5206-4a6c-c9aa-736ab79927df"
      },
      "outputs": [
        {
          "output_type": "stream",
          "name": "stdout",
          "text": [
            "Requirement already satisfied: openpyxl in /usr/local/lib/python3.10/dist-packages (3.1.5)\n",
            "Requirement already satisfied: pyspark in /usr/local/lib/python3.10/dist-packages (3.5.3)\n",
            "Requirement already satisfied: et-xmlfile in /usr/local/lib/python3.10/dist-packages (from openpyxl) (2.0.0)\n",
            "Requirement already satisfied: py4j==0.10.9.7 in /usr/local/lib/python3.10/dist-packages (from pyspark) (0.10.9.7)\n"
          ]
        }
      ],
      "source": [
        "# Step 1: Install\n",
        "!pip install openpyxl pyspark"
      ]
    },
    {
      "cell_type": "code",
      "source": [
        "## Step 2: Import the pandas and spark libraries\n",
        "import pandas as pd\n",
        "from pyspark.sql import SparkSession\n",
        "from pyspark.sql.functions import sum, col"
      ],
      "metadata": {
        "id": "NJbExWDnl5_K"
      },
      "execution_count": 2,
      "outputs": []
    },
    {
      "cell_type": "code",
      "source": [
        "# Step 3: Download the Online Retail Dataset\n",
        "!wget https://archive.ics.uci.edu/ml/machine-learning-databases/00352/Online%20Retail.xlsx -O online_retail.xlsx\n",
        "\n",
        "# Step 3: Convert the XLSX File to CSV for Easier Processing with Spark\n",
        "excel_data = pd.read_excel('online_retail.xlsx', engine='openpyxl')\n",
        "excel_data.to_csv('online_retail.csv', index=False)"
      ],
      "metadata": {
        "colab": {
          "base_uri": "https://localhost:8080/"
        },
        "id": "D-k0qiiwmApO",
        "outputId": "dc7fc187-deb6-4abc-eed7-b5b1dca4c963"
      },
      "execution_count": 3,
      "outputs": [
        {
          "output_type": "stream",
          "name": "stdout",
          "text": [
            "--2024-11-16 14:27:58--  https://archive.ics.uci.edu/ml/machine-learning-databases/00352/Online%20Retail.xlsx\n",
            "Resolving archive.ics.uci.edu (archive.ics.uci.edu)... 128.195.10.252\n",
            "Connecting to archive.ics.uci.edu (archive.ics.uci.edu)|128.195.10.252|:443... connected.\n",
            "HTTP request sent, awaiting response... 200 OK\n",
            "Length: unspecified\n",
            "Saving to: ‘online_retail.xlsx’\n",
            "\n",
            "online_retail.xlsx      [     <=>            ]  22.62M  22.6MB/s    in 1.0s    \n",
            "\n",
            "2024-11-16 14:27:59 (22.6 MB/s) - ‘online_retail.xlsx’ saved [23715344]\n",
            "\n"
          ]
        }
      ]
    },
    {
      "cell_type": "code",
      "source": [
        "# Step 4: Initialize SparkSession\n",
        "spark = SparkSession.builder.appName(\"OnlineRetailAnalysis\").getOrCreate()"
      ],
      "metadata": {
        "id": "bbEOrEECl0Zn"
      },
      "execution_count": 4,
      "outputs": []
    },
    {
      "cell_type": "code",
      "source": [
        "# Step 5: Load the Online Retail Dataset CSV into a Spark DataFrame\n",
        "df = spark.read.csv('online_retail.csv', header=True, inferSchema=True)\n",
        "# Display the schema to verify correct loading and data types\n",
        "df.printSchema()"
      ],
      "metadata": {
        "colab": {
          "base_uri": "https://localhost:8080/"
        },
        "id": "azxXSNSZmGEF",
        "outputId": "849fd638-778c-4dae-f71d-6b675c0ae14b"
      },
      "execution_count": 5,
      "outputs": [
        {
          "output_type": "stream",
          "name": "stdout",
          "text": [
            "root\n",
            " |-- InvoiceNo: string (nullable = true)\n",
            " |-- StockCode: string (nullable = true)\n",
            " |-- Description: string (nullable = true)\n",
            " |-- Quantity: integer (nullable = true)\n",
            " |-- InvoiceDate: timestamp (nullable = true)\n",
            " |-- UnitPrice: double (nullable = true)\n",
            " |-- CustomerID: double (nullable = true)\n",
            " |-- Country: string (nullable = true)\n",
            "\n"
          ]
        }
      ]
    },
    {
      "cell_type": "code",
      "source": [
        "df.describe().show()"
      ],
      "metadata": {
        "colab": {
          "base_uri": "https://localhost:8080/"
        },
        "id": "cnuLlhmMY1v5",
        "outputId": "d59bd255-ca7d-46e4-fb7f-f825284ebb1d"
      },
      "execution_count": 6,
      "outputs": [
        {
          "output_type": "stream",
          "name": "stdout",
          "text": [
            "+-------+------------------+------------------+--------------------+------------------+-----------------+------------------+-----------+\n",
            "|summary|         InvoiceNo|         StockCode|         Description|          Quantity|        UnitPrice|        CustomerID|    Country|\n",
            "+-------+------------------+------------------+--------------------+------------------+-----------------+------------------+-----------+\n",
            "|  count|            541909|            541909|              540455|            541909|           541909|            406829|     541909|\n",
            "|   mean|  559965.752026781|27623.240210938104|             20713.0|  9.55224954743324| 4.61111362608298|15287.690570239585|       NULL|\n",
            "| stddev|13428.417280803813|16799.737628427752|                NULL|218.08115785023477|96.75985306117967|1713.6003033215982|       NULL|\n",
            "|    min|            536365|             10002| 4 PURPLE FLOCK D...|            -80995|        -11062.06|           12346.0|  Australia|\n",
            "|    max|           C581569|                 m|   wrongly sold sets|             80995|          38970.0|           18287.0|Unspecified|\n",
            "+-------+------------------+------------------+--------------------+------------------+-----------------+------------------+-----------+\n",
            "\n"
          ]
        }
      ]
    },
    {
      "cell_type": "code",
      "source": [
        "df.count()"
      ],
      "metadata": {
        "colab": {
          "base_uri": "https://localhost:8080/"
        },
        "id": "bvH54NLSZI5X",
        "outputId": "f80f7710-deea-496d-c2ca-a621749d50f4"
      },
      "execution_count": 7,
      "outputs": [
        {
          "output_type": "execute_result",
          "data": {
            "text/plain": [
              "541909"
            ]
          },
          "metadata": {},
          "execution_count": 7
        }
      ]
    },
    {
      "cell_type": "code",
      "source": [
        "# Show the first few rows of the DataFrame to understand your data\n",
        "df.show(5)"
      ],
      "metadata": {
        "colab": {
          "base_uri": "https://localhost:8080/",
          "height": 0
        },
        "id": "oWJpzyqx1Xa7",
        "outputId": "afe771e6-af77-48f0-d5bb-d602617a5120"
      },
      "execution_count": 6,
      "outputs": [
        {
          "output_type": "stream",
          "name": "stdout",
          "text": [
            "+---------+---------+--------------------+--------+-------------------+---------+----------+--------------+\n",
            "|InvoiceNo|StockCode|         Description|Quantity|        InvoiceDate|UnitPrice|CustomerID|       Country|\n",
            "+---------+---------+--------------------+--------+-------------------+---------+----------+--------------+\n",
            "|   536365|   85123A|WHITE HANGING HEA...|       6|2010-12-01 08:26:00|     2.55|   17850.0|United Kingdom|\n",
            "|   536365|    71053| WHITE METAL LANTERN|       6|2010-12-01 08:26:00|     3.39|   17850.0|United Kingdom|\n",
            "|   536365|   84406B|CREAM CUPID HEART...|       8|2010-12-01 08:26:00|     2.75|   17850.0|United Kingdom|\n",
            "|   536365|   84029G|KNITTED UNION FLA...|       6|2010-12-01 08:26:00|     3.39|   17850.0|United Kingdom|\n",
            "|   536365|   84029E|RED WOOLLY HOTTIE...|       6|2010-12-01 08:26:00|     3.39|   17850.0|United Kingdom|\n",
            "+---------+---------+--------------------+--------+-------------------+---------+----------+--------------+\n",
            "only showing top 5 rows\n",
            "\n"
          ]
        }
      ]
    },
    {
      "cell_type": "code",
      "source": [
        "# Simple Data Analysis Example - Calculate Total Sales per Country; # Assuming 'Quantity' and 'UnitPrice' columns exist, and we're interested in 'Country'\n",
        "# Add a new column for total sales\n",
        "df = df.withColumn('TotalSales', col('Quantity') * col('UnitPrice'))\n",
        "# Show the first few rows of the DataFrame to understand your data\n",
        "df.show(5)"
      ],
      "metadata": {
        "colab": {
          "base_uri": "https://localhost:8080/",
          "height": 0
        },
        "id": "YBXbdYwdmJC_",
        "outputId": "bad3dcad-ba1c-4eb9-8ddf-89526601e15f"
      },
      "execution_count": 7,
      "outputs": [
        {
          "output_type": "stream",
          "name": "stdout",
          "text": [
            "+---------+---------+--------------------+--------+-------------------+---------+----------+--------------+------------------+\n",
            "|InvoiceNo|StockCode|         Description|Quantity|        InvoiceDate|UnitPrice|CustomerID|       Country|        TotalSales|\n",
            "+---------+---------+--------------------+--------+-------------------+---------+----------+--------------+------------------+\n",
            "|   536365|   85123A|WHITE HANGING HEA...|       6|2010-12-01 08:26:00|     2.55|   17850.0|United Kingdom|15.299999999999999|\n",
            "|   536365|    71053| WHITE METAL LANTERN|       6|2010-12-01 08:26:00|     3.39|   17850.0|United Kingdom|             20.34|\n",
            "|   536365|   84406B|CREAM CUPID HEART...|       8|2010-12-01 08:26:00|     2.75|   17850.0|United Kingdom|              22.0|\n",
            "|   536365|   84029G|KNITTED UNION FLA...|       6|2010-12-01 08:26:00|     3.39|   17850.0|United Kingdom|             20.34|\n",
            "|   536365|   84029E|RED WOOLLY HOTTIE...|       6|2010-12-01 08:26:00|     3.39|   17850.0|United Kingdom|             20.34|\n",
            "+---------+---------+--------------------+--------+-------------------+---------+----------+--------------+------------------+\n",
            "only showing top 5 rows\n",
            "\n"
          ]
        }
      ]
    },
    {
      "cell_type": "code",
      "source": [
        "# Calculate total sales per country\n",
        "total_sales_per_country = df.groupBy('Country').agg(sum('TotalSales').alias('TotalSales'))"
      ],
      "metadata": {
        "id": "F9wEv6J61g70"
      },
      "execution_count": 8,
      "outputs": []
    },
    {
      "cell_type": "code",
      "source": [
        "# Show the results ordered by TotalSales in descending order\n",
        "total_sales_per_country.orderBy('TotalSales', ascending=False).show()\n"
      ],
      "metadata": {
        "colab": {
          "base_uri": "https://localhost:8080/",
          "height": 0
        },
        "id": "jtPIT6S81mpr",
        "outputId": "22966e01-27fb-4b60-9350-eeb29e744d61"
      },
      "execution_count": 9,
      "outputs": [
        {
          "output_type": "stream",
          "name": "stdout",
          "text": [
            "+---------------+------------------+\n",
            "|        Country|        TotalSales|\n",
            "+---------------+------------------+\n",
            "| United Kingdom|   8187806.3639987|\n",
            "|    Netherlands| 284661.5399999992|\n",
            "|           EIRE| 263276.8199999992|\n",
            "|        Germany|221698.21000000037|\n",
            "|         France|197403.90000000037|\n",
            "|      Australia|137077.26999999987|\n",
            "|    Switzerland| 56385.35000000009|\n",
            "|          Spain| 54774.58000000016|\n",
            "|        Belgium|40910.960000000014|\n",
            "|         Sweden| 36595.90999999998|\n",
            "|          Japan|35340.619999999995|\n",
            "|         Norway|35163.460000000014|\n",
            "|       Portugal|29367.019999999953|\n",
            "|        Finland|22326.739999999994|\n",
            "|Channel Islands| 20086.28999999999|\n",
            "|        Denmark| 18768.13999999999|\n",
            "|          Italy| 16890.50999999999|\n",
            "|         Cyprus|12946.289999999994|\n",
            "|        Austria|10154.319999999996|\n",
            "|      Hong Kong|10117.039999999997|\n",
            "+---------------+------------------+\n",
            "only showing top 20 rows\n",
            "\n"
          ]
        }
      ]
    },
    {
      "cell_type": "code",
      "source": [
        "# Step 7: Cleanup - Stop the Spark Session\n",
        "spark.stop()"
      ],
      "metadata": {
        "id": "H7_86dQfTHpd"
      },
      "execution_count": null,
      "outputs": []
    }
  ]
}